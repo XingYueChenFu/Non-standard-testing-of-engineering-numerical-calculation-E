{
 "cells": [
  {
   "cell_type": "code",
   "execution_count": 30,
   "metadata": {},
   "outputs": [],
   "source": [
    "import numpy as np\n",
    "import matplotlib.pyplot as plt\n",
    "from matplotlib.animation import FuncAnimation # 动画\n",
    "from matplotlib.animation import PillowWriter  # 保存为 gif\n",
    "from IPython.display import HTML # 在 Jupyter Notebook 中显示动画"
   ]
  },
  {
   "cell_type": "markdown",
   "metadata": {},
   "source": [
    "## 1. 求路径长\n",
    "\n",
    "`trapezoidal_integrate()`: 梯形法则\n",
    "\n",
    "`simpsons_integrate()`: 辛普森法则"
   ]
  },
  {
   "cell_type": "code",
   "execution_count": 59,
   "metadata": {},
   "outputs": [
    {
     "name": "stdout",
     "output_type": "stream",
     "text": [
      "贝塞尔曲线的路径长度（梯形公式）:  \t2.49524823243601\n",
      "贝塞尔曲线的路径长度（辛普森公式）: \t2.4952467475276325\n"
     ]
    }
   ],
   "source": [
    "import numpy as np\n",
    "\n",
    "class BezierCurve:  \n",
    "    def __init__(self, p0, p1, p2, p3):  \n",
    "        \"\"\"初始化贝塞尔曲线的控制点\"\"\"  \n",
    "        self.p0 = np.array(p0)  \n",
    "        self.p1 = np.array(p1)  \n",
    "        self.p2 = np.array(p2)  \n",
    "        self.p3 = np.array(p3)  \n",
    "\n",
    "    def __call__(self, t):  \n",
    "        \"\"\"计算贝塞尔曲线在 t 时的点\"\"\"  \n",
    "        return (1 - t)**3 * self.p0 + 3 * (1 - t)**2 * t * self.p1 + 3 * (1 - t) * t**2 * self.p2 + t**3 * self.p3  \n",
    "\n",
    "    def derivative(self, t):  \n",
    "        \"\"\"计算贝塞尔曲线在 t 时的导数\"\"\"  \n",
    "        return 3 * (1 - t)**2 * (self.p1 - self.p0) + 6 * (1 - t) * t * (self.p2 - self.p1) + 3 * t**2 * (self.p3 - self.p2)  \n",
    "\n",
    "def trapezoidal_integrate(curve, t1, t2, n=1000):\n",
    "    \"\"\"使用梯形公式计算贝塞尔曲线的路径长度\"\"\"\n",
    "    def integrand(t):\n",
    "        \"\"\"计算曲线在 t 时的速度（导数的模）\"\"\"\n",
    "        derivative = curve.derivative(t)\n",
    "        return np.linalg.norm(derivative)\n",
    "    \n",
    "    # 将区间 [t1, t2] 划分成 n 个小区间\n",
    "    dt = (t2 - t1) / n\n",
    "    total_length = integrand(t1) + integrand(t2)  # 两端点的值\n",
    "\n",
    "    # 对中间点进行累加\n",
    "    for i in range(1, n):\n",
    "        t = t1 + i * dt\n",
    "        total_length += 2 * integrand(t)\n",
    "    \n",
    "    # 最终的路径长度\n",
    "    total_length *= dt / 2\n",
    "    return total_length\n",
    "\n",
    "def simpsons_integrate(curve, t1, t2, n=1000):\n",
    "    \"\"\"使用辛普森公式计算贝塞尔曲线的路径长度\"\"\"\n",
    "    def integrand(t):\n",
    "        \"\"\"计算曲线在 t 时的速度（导数的模）\"\"\"\n",
    "        derivative = curve.derivative(t)\n",
    "        return np.linalg.norm(derivative)\n",
    "    \n",
    "    # 将区间 [t1, t2] 划分成 n 个小区间，n 必须为偶数\n",
    "    n = n + (n % 2)\n",
    "    dt = (t2 - t1) / n\n",
    "    total_length = integrand(t1) + integrand(t2)  # 两端点的值\n",
    "    \n",
    "    # 对中间点进行累加\n",
    "    for i in range(1, n, 2):\n",
    "        t = t1 + i * dt\n",
    "        total_length += 4 * integrand(t)\n",
    "    \n",
    "    for i in range(2, n-1, 2):\n",
    "        t = t1 + i * dt\n",
    "        total_length += 2 * integrand(t)\n",
    "    \n",
    "    # 最终的路径长度\n",
    "    total_length *= dt / 3\n",
    "    return total_length\n",
    "\n",
    "# 示例使用\n",
    "p0 = [0.5, 1.5]  \n",
    "p1 = [0.6, 1.6]  \n",
    "p2 = [2, 2]  \n",
    "p3 = [0, 0]  \n",
    "\n",
    "curve = BezierCurve(p0, p1, p2, p3)\n",
    "length_trap = trapezoidal_integrate(curve, 0, 1, n=1000)\n",
    "print(f\"贝塞尔曲线的路径长度（梯形公式）:  \\t{length_trap}\")\n",
    "length_simp = simpsons_integrate(curve, 0, 1, n=1000)\n",
    "print(f\"贝塞尔曲线的路径长度（辛普森公式）: \\t{length_simp}\")\n"
   ]
  }
 ],
 "metadata": {
  "kernelspec": {
   "display_name": "base",
   "language": "python",
   "name": "python3"
  },
  "language_info": {
   "codemirror_mode": {
    "name": "ipython",
    "version": 3
   },
   "file_extension": ".py",
   "mimetype": "text/x-python",
   "name": "python",
   "nbconvert_exporter": "python",
   "pygments_lexer": "ipython3",
   "version": "3.11.7"
  }
 },
 "nbformat": 4,
 "nbformat_minor": 2
}
